{
 "cells": [
  {
   "cell_type": "code",
   "execution_count": 1,
   "id": "69c6b858-3315-45bd-b9e3-1a49f4ccf5cf",
   "metadata": {},
   "outputs": [
    {
     "name": "stderr",
     "output_type": "stream",
     "text": [
      "2025-06-23 12:09:59.248096: I tensorflow/core/util/port.cc:153] oneDNN custom operations are on. You may see slightly different numerical results due to floating-point round-off errors from different computation orders. To turn them off, set the environment variable `TF_ENABLE_ONEDNN_OPTS=0`.\n",
      "2025-06-23 12:09:59.255214: E external/local_xla/xla/stream_executor/cuda/cuda_fft.cc:467] Unable to register cuFFT factory: Attempting to register factory for plugin cuFFT when one has already been registered\n",
      "WARNING: All log messages before absl::InitializeLog() is called are written to STDERR\n",
      "E0000 00:00:1750648199.263153   58640 cuda_dnn.cc:8579] Unable to register cuDNN factory: Attempting to register factory for plugin cuDNN when one has already been registered\n",
      "E0000 00:00:1750648199.265829   58640 cuda_blas.cc:1407] Unable to register cuBLAS factory: Attempting to register factory for plugin cuBLAS when one has already been registered\n",
      "W0000 00:00:1750648199.272221   58640 computation_placer.cc:177] computation placer already registered. Please check linkage and avoid linking the same target more than once.\n",
      "W0000 00:00:1750648199.272229   58640 computation_placer.cc:177] computation placer already registered. Please check linkage and avoid linking the same target more than once.\n",
      "W0000 00:00:1750648199.272230   58640 computation_placer.cc:177] computation placer already registered. Please check linkage and avoid linking the same target more than once.\n",
      "W0000 00:00:1750648199.272231   58640 computation_placer.cc:177] computation placer already registered. Please check linkage and avoid linking the same target more than once.\n",
      "2025-06-23 12:09:59.275400: I tensorflow/core/platform/cpu_feature_guard.cc:210] This TensorFlow binary is optimized to use available CPU instructions in performance-critical operations.\n",
      "To enable the following instructions: AVX2 AVX_VNNI AVX_VNNI_INT8 AVX_NE_CONVERT FMA, in other operations, rebuild TensorFlow with the appropriate compiler flags.\n"
     ]
    }
   ],
   "source": [
    "import tensorflow as tf\n",
    "from tensorflow.keras import Input, models, layers\n",
    "import matplotlib.pyplot as plt\n",
    "# import keras.api.ops as K\n",
    "import tensorflow.keras.backend as K\n",
    "from keras import models, layers, optimizers"
   ]
  },
  {
   "cell_type": "code",
   "execution_count": 2,
   "id": "1fece4b8-43e7-4764-b2f3-b2a4a80c609e",
   "metadata": {},
   "outputs": [],
   "source": [
    "# 1. Load MNIST dataset\n",
    "\n",
    "mnist = tf.keras.datasets.mnist\n",
    "(x_train, _), (x_test, _) = mnist.load_data()\n",
    "\n",
    "x_train = x_train.astype('float32') / 255.\n",
    "x_test = x_test.astype('float32') / 255.\n",
    "\n",
    "# 28*28 이미지를 1차원 벡터(784)로 변환\n",
    "x_train = x_train.reshape((-1, 28*28))\n",
    "x_test = x_test.reshape((-1, 28*28))"
   ]
  },
  {
   "cell_type": "code",
   "execution_count": 3,
   "id": "a3efa883-c5a8-446e-83f0-34c8a420c06e",
   "metadata": {},
   "outputs": [],
   "source": [
    "# 2. functional API로 구성한 autoencoder\n",
    "def build_autoencoder(input_dim: int) -> models.Model:\n",
    "    # encoder\n",
    "    x = inputs = layers.Input(shape=(input_dim,))\n",
    "    x = layers.Dense(128, activation='relu')(x)\n",
    "    x = layers.Dense(64, activation='relu')(x)\n",
    "    x = layers.Dense(32, activation='relu')(x)\n",
    "\n",
    "    # decoder\n",
    "    x = layers.Dense(64, activation='relu')(x)\n",
    "    x = layers.Dense(128, activation='relu')(x)\n",
    "    x = outputs = layers.Dense(input_dim, activation='sigmoid')(x)\n",
    "\n",
    "    # model definition\n",
    "    autoencoder = models.Model(inputs=inputs, outputs=outputs)\n",
    "    autoencoder.compile(optimizer='adam', loss='mse')\n",
    "    return autoencoder"
   ]
  },
  {
   "cell_type": "code",
   "execution_count": 8,
   "id": "0c5c5bc6-ada8-4de3-91ec-a94709cc9b72",
   "metadata": {},
   "outputs": [],
   "source": [
    "# 3. MSE model\n",
    "def make_model_mse(model: models.Model):\n",
    "    assert isinstance(model, models.Model)\n",
    "    input_s = model.inputs[0] \n",
    "    output_s = model.outputs[0] \n",
    "\n",
    "    # error_s = K.mean(K.square(input_s - output_s), axis=[1, ]) # MSE\n",
    "\n",
    "    # diff = layers.Subtract()([input_s, output_s]) # 얘도 가능\n",
    "    diff = input_s - output_s\n",
    "    squared = layers.Multiply()([diff, diff]) # K.square\n",
    "    error_s = layers.Lambda(lambda x: tf.reduce_mean(x, axis=1))(squared) # K.mean (axis=1)\n",
    "    \n",
    "    return models.Model(inputs=input_s, outputs=error_s)\n",
    "\n",
    "# model_mse = make_model_mse(autoencoder)\n",
    "# autoencoder.fit()으로 autoencoder를 학습시키면, model_mse의 파라미터 역시 자동으로 튜닝됩니다!"
   ]
  },
  {
   "cell_type": "code",
   "execution_count": 9,
   "id": "ca3b6f39-7673-40df-95c1-7fb62026d37b",
   "metadata": {},
   "outputs": [
    {
     "name": "stdout",
     "output_type": "stream",
     "text": [
      "Epoch 1/10\n",
      "\u001b[1m211/211\u001b[0m \u001b[32m━━━━━━━━━━━━━━━━━━━━\u001b[0m\u001b[37m\u001b[0m \u001b[1m3s\u001b[0m 9ms/step - loss: 0.0998 - val_loss: 0.0392\n",
      "Epoch 2/10\n",
      "\u001b[1m211/211\u001b[0m \u001b[32m━━━━━━━━━━━━━━━━━━━━\u001b[0m\u001b[37m\u001b[0m \u001b[1m0s\u001b[0m 2ms/step - loss: 0.0357 - val_loss: 0.0274\n",
      "Epoch 3/10\n",
      "\u001b[1m211/211\u001b[0m \u001b[32m━━━━━━━━━━━━━━━━━━━━\u001b[0m\u001b[37m\u001b[0m \u001b[1m0s\u001b[0m 2ms/step - loss: 0.0259 - val_loss: 0.0218\n",
      "Epoch 4/10\n",
      "\u001b[1m211/211\u001b[0m \u001b[32m━━━━━━━━━━━━━━━━━━━━\u001b[0m\u001b[37m\u001b[0m \u001b[1m0s\u001b[0m 1ms/step - loss: 0.0213 - val_loss: 0.0194\n",
      "Epoch 5/10\n",
      "\u001b[1m211/211\u001b[0m \u001b[32m━━━━━━━━━━━━━━━━━━━━\u001b[0m\u001b[37m\u001b[0m \u001b[1m0s\u001b[0m 2ms/step - loss: 0.0191 - val_loss: 0.0178\n",
      "Epoch 6/10\n",
      "\u001b[1m211/211\u001b[0m \u001b[32m━━━━━━━━━━━━━━━━━━━━\u001b[0m\u001b[37m\u001b[0m \u001b[1m0s\u001b[0m 2ms/step - loss: 0.0176 - val_loss: 0.0165\n",
      "Epoch 7/10\n",
      "\u001b[1m211/211\u001b[0m \u001b[32m━━━━━━━━━━━━━━━━━━━━\u001b[0m\u001b[37m\u001b[0m \u001b[1m0s\u001b[0m 2ms/step - loss: 0.0165 - val_loss: 0.0157\n",
      "Epoch 8/10\n",
      "\u001b[1m211/211\u001b[0m \u001b[32m━━━━━━━━━━━━━━━━━━━━\u001b[0m\u001b[37m\u001b[0m \u001b[1m0s\u001b[0m 2ms/step - loss: 0.0154 - val_loss: 0.0148\n",
      "Epoch 9/10\n",
      "\u001b[1m211/211\u001b[0m \u001b[32m━━━━━━━━━━━━━━━━━━━━\u001b[0m\u001b[37m\u001b[0m \u001b[1m0s\u001b[0m 2ms/step - loss: 0.0145 - val_loss: 0.0139\n",
      "Epoch 10/10\n",
      "\u001b[1m211/211\u001b[0m \u001b[32m━━━━━━━━━━━━━━━━━━━━\u001b[0m\u001b[37m\u001b[0m \u001b[1m0s\u001b[0m 2ms/step - loss: 0.0139 - val_loss: 0.0136\n",
      "\u001b[1m313/313\u001b[0m \u001b[32m━━━━━━━━━━━━━━━━━━━━\u001b[0m\u001b[37m\u001b[0m \u001b[1m1s\u001b[0m 1ms/step\n",
      "[0.00801274 0.01849638 0.00284302 0.00903244 0.011913   0.00143948\n",
      " 0.020179   0.02408656 0.01781524 0.01150522]\n"
     ]
    }
   ],
   "source": [
    "# 4. autoencoder 객체 생성 및 학습(fit)\n",
    "autoencoder = build_autoencoder(input_dim=784)\n",
    "autoencoder.fit(x_train, x_train, epochs=10, batch_size=256, shuffle=True, validation_split=0.1)\n",
    "\n",
    "# 5. MSE 계산 모델 정의\n",
    "model_mse = make_model_mse(autoencoder)\n",
    "\n",
    "# 6. reconstruction error 계산\n",
    "mse = model_mse.predict(x_test)\n",
    "print(mse[:10])"
   ]
  },
  {
   "cell_type": "code",
   "execution_count": 12,
   "id": "8c3d5eab-bf6d-489b-8266-e2efa95754b2",
   "metadata": {},
   "outputs": [
    {
     "name": "stdout",
     "output_type": "stream",
     "text": [
      "2.19.0\n",
      "3.10.0\n"
     ]
    }
   ],
   "source": [
    "print(tf.__version__)\n",
    "import keras\n",
    "print(keras.__version__)"
   ]
  },
  {
   "cell_type": "markdown",
   "id": "52c98385-e8fa-46a7-a865-8a302c792c6e",
   "metadata": {},
   "source": [
    "### w/ Caching~~"
   ]
  },
  {
   "cell_type": "code",
   "execution_count": 16,
   "id": "0e6edbce-ef1a-4a16-ba36-02386eddc7f9",
   "metadata": {},
   "outputs": [],
   "source": [
    "from pathlib import Path\n",
    "import pickle\n",
    "import numpy as np\n",
    "from keras.models import Model\n",
    "from tqdm import trange\n",
    "\n",
    "# 1. 캐시 폴더 생성\n",
    "path_cache = Path('./cache_mse')\n",
    "path_cache.mkdir(exist_ok=True)"
   ]
  },
  {
   "cell_type": "code",
   "execution_count": 17,
   "id": "ee893d57-dd29-48df-8ce2-5826dbdb56ea",
   "metadata": {},
   "outputs": [],
   "source": [
    "# 2. 메모리에 담긴 데이터들을 모두 모아 MD5 hash를 만드는 함수\n",
    "def calculate_md5(*args, __read_path_object__: bool = False, **kwargs) -> str:\n",
    "    \"\"\"\n",
    "    메모리에 담긴 데이터들을 모두 모아 MD5 hash를 만드는 함수\n",
    "\n",
    "    :param args: positional arguments to be hashed\n",
    "    :param __read_path_object__: Path 인스턴스의 처리 방법을 결정\n",
    "    False (기본값): Path 인스턴스, 즉, Python 프로세스의 메모리 값을 hash에 사용\n",
    "    True: Path 인스턴스가 가리키는 파일에 담긴 디스크 값을 hash에 사용. 파일은 있을 것으로 가정. 파일이 없으면 FileNotFoundError 예외 발생.\n",
    "    :param kwargs: keyword arguments\n",
    "    :return: MD5 hash 문자열\n",
    "    \"\"\"\n",
    "    import hashlib\n",
    "    import pickle\n",
    "    from pathlib import Path\n",
    "    import pandas as pd\n",
    "\n",
    "    def __polish_arg__(arg) -> bytes:\n",
    "        if isinstance(arg, (pd.DataFrame, pd.Series)):  # pandas Dataframe needs attention.\n",
    "            arg = pd.util.hash_pandas_object(arg)  # pd.Dataframe or pd.Series becomes pd.Series.\n",
    "            arg = (arg.index.values, arg.values)  # make a series a tuple containing indices and values\n",
    "\n",
    "        if __read_path_object__ and isinstance(arg, Path):\n",
    "            arg = arg.read_bytes()  # (if necessary) read file content as bytes\n",
    "        if isinstance(arg, str):\n",
    "            arg = arg.encode()  # str to bytes\n",
    "        elif not isinstance(arg, bytes):\n",
    "            arg = pickle.dumps(arg)  # any other object to bytes\n",
    "        return arg  # it must be bytes.\n",
    "\n",
    "    m = hashlib.md5()\n",
    "    for arg in args:\n",
    "        arg = __polish_arg__(arg)\n",
    "        m.update(arg)\n",
    "    for key, value in kwargs.items():\n",
    "        m.update(__polish_arg__(key))\n",
    "        m.update(__polish_arg__(value))\n",
    "    return m.hexdigest()"
   ]
  },
  {
   "cell_type": "code",
   "execution_count": 18,
   "id": "dfbc8fb7-609e-42a5-8b75-dd22d1418c46",
   "metadata": {},
   "outputs": [],
   "source": [
    "# 3. 캐싱 예측 함수 정의\n",
    "def predict_mse(model_mse: Model, X: np.ndarray, label: str = \"\") -> np.ndarray:\n",
    "    \"\"\"\n",
    "    입력 데이터 X에 대해 model_mse의 예측을 캐싱하여 중복 계산 방지\n",
    "\n",
    "    :param model_mse: mse 계산용 Keras 모델\n",
    "    :param X: 입력 데이터 (numpy.ndarray)\n",
    "    :param label: 동일한 데이터라도 다른 설정일 경우 label로 캐시 분기 가능\n",
    "    => label=\"v1-autoencoder-dropout0.2\"처럼 모델 버전명, threshold 설정 등을 넣을 수 있음. 이렇게 하면 같은 X라도 모델 설정이 달라지면 새로운 캐시가 만들어진다.\n",
    "    :return: reconstruction error\n",
    "    \"\"\"\n",
    "    \n",
    "    # 1. 캐시 키 생성\n",
    "    key = calculate_md5(X, label)\n",
    "    path = path_cache.joinpath(f'{key}.pkl')\n",
    "\n",
    "    # 2-1. 캐시가 있다면 로드\n",
    "    if path.exists():\n",
    "        print(f\"[Cache 사용] {path.name}\")\n",
    "        return pickle.loads(path.read_bytes())\n",
    "\n",
    "    # 2-2. 없으면 계산\n",
    "    print(f\"[Cache 없음] 예측 수행 중...\")\n",
    "    errors = model_mse.predict(X, verbose=0)\n",
    "\n",
    "    # 3. 결과 저장\n",
    "    path.write_bytes(pickle.dumps(errors))\n",
    "    print(f\"[Cache 저장 완료] {path.name}\")\n",
    "    return errors"
   ]
  },
  {
   "cell_type": "code",
   "execution_count": 19,
   "id": "4da31804-732e-4063-aeff-f440b7f8330d",
   "metadata": {},
   "outputs": [
    {
     "name": "stdout",
     "output_type": "stream",
     "text": [
      "[Cache 없음] 예측 수행 중...\n",
      "[Cache 저장 완료] f6e9ffe4847f542b3a8464ceeaa4f825.pkl\n"
     ]
    }
   ],
   "source": [
    "mse_scores = predict_mse(model_mse, x_test, label=\"mnist-ae-v1\")"
   ]
  },
  {
   "cell_type": "code",
   "execution_count": 20,
   "id": "22b87aaa-e847-4647-9586-ce53b0a846c3",
   "metadata": {},
   "outputs": [
    {
     "name": "stdout",
     "output_type": "stream",
     "text": [
      "MSE shape (10000,)\n",
      "[0.00801274 0.01849638 0.00284302 0.00903244 0.011913   0.00143948\n",
      " 0.020179   0.02408656 0.01781524 0.01150522]\n"
     ]
    }
   ],
   "source": [
    "print(\"MSE shape\", mse_scores.shape)\n",
    "print(mse_scores[:10])"
   ]
  },
  {
   "cell_type": "code",
   "execution_count": 21,
   "id": "91a2392b-3c05-46f7-975c-da65488636e5",
   "metadata": {},
   "outputs": [
    {
     "name": "stdout",
     "output_type": "stream",
     "text": [
      "[Cache 사용] f6e9ffe4847f542b3a8464ceeaa4f825.pkl\n"
     ]
    }
   ],
   "source": [
    "mse_scores = predict_mse(model_mse, x_test, label=\"mnist-ae-v1\")"
   ]
  },
  {
   "cell_type": "code",
   "execution_count": 22,
   "id": "398548e0-5978-49d6-8148-9d5007463d52",
   "metadata": {},
   "outputs": [
    {
     "name": "stdout",
     "output_type": "stream",
     "text": [
      "MSE shape (10000,)\n",
      "[0.00801274 0.01849638 0.00284302 0.00903244 0.011913   0.00143948\n",
      " 0.020179   0.02408656 0.01781524 0.01150522]\n"
     ]
    }
   ],
   "source": [
    "print(\"MSE shape\", mse_scores.shape)\n",
    "print(mse_scores[:10])"
   ]
  },
  {
   "cell_type": "code",
   "execution_count": null,
   "id": "c2582a12-646e-487d-88e2-524289540418",
   "metadata": {},
   "outputs": [],
   "source": []
  }
 ],
 "metadata": {
  "kernelspec": {
   "display_name": "Python 3 (ipykernel)",
   "language": "python",
   "name": "python3"
  },
  "language_info": {
   "codemirror_mode": {
    "name": "ipython",
    "version": 3
   },
   "file_extension": ".py",
   "mimetype": "text/x-python",
   "name": "python",
   "nbconvert_exporter": "python",
   "pygments_lexer": "ipython3",
   "version": "3.11.13"
  }
 },
 "nbformat": 4,
 "nbformat_minor": 5
}
